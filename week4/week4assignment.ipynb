{
 "cells": [
  {
   "cell_type": "markdown",
   "id": "8aec028c-cd89-45ff-add0-d92db824ca6d",
   "metadata": {},
   "source": [
    "1. Remove any data that is not relevant to the patient’s ALS condition.\n",
    "2. Apply a standard scalar to the data.\n",
    "3. Create a plot of the cluster silhouette score versus the number of clusters in a K-means cluster.\n",
    "4. Use the plot created in (3) to choose on optimal number of clusters for K-means. Justify your choice.\n",
    "5. Fit a K-means model to the data with the optimal number of clusters chosen in part (4).\n",
    "6. Fit a PCA transformation with two features to the scaled data.\n",
    "7. Make a scatterplot the PCA transformed data coloring each point by its cluster value.\n",
    "8. Summarize your results and make a conclusion."
   ]
  },
  {
   "cell_type": "code",
   "execution_count": 2,
   "id": "fe17d1af-edee-4038-a6da-b0161b27e349",
   "metadata": {},
   "outputs": [],
   "source": [
    "import pandas as pd\n",
    "import numpy as np\n",
    "import matplotlib.pyplot as plt\n",
    "import seaborn as sns"
   ]
  },
  {
   "cell_type": "code",
   "execution_count": 3,
   "id": "477d9e2b-89ec-4c82-b0e3-eaa32ee3a9da",
   "metadata": {},
   "outputs": [],
   "source": [
    "df = pd.read_csv('als_data.csv')"
   ]
  },
  {
   "cell_type": "code",
   "execution_count": 4,
   "id": "85c1375f-f879-4918-86d6-c7555966090d",
   "metadata": {},
   "outputs": [
    {
     "data": {
      "text/plain": [
       "(2223, 101)"
      ]
     },
     "execution_count": 4,
     "metadata": {},
     "output_type": "execute_result"
    }
   ],
   "source": [
    "df.shape"
   ]
  },
  {
   "cell_type": "code",
   "execution_count": 5,
   "id": "9102868a-4208-4b27-b9f7-456367ecbcf8",
   "metadata": {},
   "outputs": [
    {
     "data": {
      "text/html": [
       "<div>\n",
       "<style scoped>\n",
       "    .dataframe tbody tr th:only-of-type {\n",
       "        vertical-align: middle;\n",
       "    }\n",
       "\n",
       "    .dataframe tbody tr th {\n",
       "        vertical-align: top;\n",
       "    }\n",
       "\n",
       "    .dataframe thead th {\n",
       "        text-align: right;\n",
       "    }\n",
       "</style>\n",
       "<table border=\"1\" class=\"dataframe\">\n",
       "  <thead>\n",
       "    <tr style=\"text-align: right;\">\n",
       "      <th></th>\n",
       "      <th>ID</th>\n",
       "      <th>Age_mean</th>\n",
       "      <th>Albumin_max</th>\n",
       "      <th>Albumin_median</th>\n",
       "      <th>Albumin_min</th>\n",
       "      <th>Albumin_range</th>\n",
       "      <th>ALSFRS_slope</th>\n",
       "      <th>ALSFRS_Total_max</th>\n",
       "      <th>ALSFRS_Total_median</th>\n",
       "      <th>ALSFRS_Total_min</th>\n",
       "      <th>...</th>\n",
       "      <th>Sodium_min</th>\n",
       "      <th>Sodium_range</th>\n",
       "      <th>SubjectID</th>\n",
       "      <th>trunk_max</th>\n",
       "      <th>trunk_median</th>\n",
       "      <th>trunk_min</th>\n",
       "      <th>trunk_range</th>\n",
       "      <th>Urine.Ph_max</th>\n",
       "      <th>Urine.Ph_median</th>\n",
       "      <th>Urine.Ph_min</th>\n",
       "    </tr>\n",
       "  </thead>\n",
       "  <tbody>\n",
       "    <tr>\n",
       "      <th>0</th>\n",
       "      <td>1</td>\n",
       "      <td>65</td>\n",
       "      <td>57.0</td>\n",
       "      <td>40.5</td>\n",
       "      <td>38.0</td>\n",
       "      <td>0.066202</td>\n",
       "      <td>-0.965608</td>\n",
       "      <td>30</td>\n",
       "      <td>28.0</td>\n",
       "      <td>22</td>\n",
       "      <td>...</td>\n",
       "      <td>143.0</td>\n",
       "      <td>0.017422</td>\n",
       "      <td>533</td>\n",
       "      <td>8</td>\n",
       "      <td>7.0</td>\n",
       "      <td>7</td>\n",
       "      <td>0.002646</td>\n",
       "      <td>6.0</td>\n",
       "      <td>6.0</td>\n",
       "      <td>6.0</td>\n",
       "    </tr>\n",
       "    <tr>\n",
       "      <th>1</th>\n",
       "      <td>2</td>\n",
       "      <td>48</td>\n",
       "      <td>45.0</td>\n",
       "      <td>41.0</td>\n",
       "      <td>39.0</td>\n",
       "      <td>0.010453</td>\n",
       "      <td>-0.921717</td>\n",
       "      <td>37</td>\n",
       "      <td>33.0</td>\n",
       "      <td>21</td>\n",
       "      <td>...</td>\n",
       "      <td>136.0</td>\n",
       "      <td>0.010453</td>\n",
       "      <td>649</td>\n",
       "      <td>8</td>\n",
       "      <td>7.0</td>\n",
       "      <td>5</td>\n",
       "      <td>0.005386</td>\n",
       "      <td>7.0</td>\n",
       "      <td>5.0</td>\n",
       "      <td>5.0</td>\n",
       "    </tr>\n",
       "    <tr>\n",
       "      <th>2</th>\n",
       "      <td>3</td>\n",
       "      <td>38</td>\n",
       "      <td>50.0</td>\n",
       "      <td>47.0</td>\n",
       "      <td>45.0</td>\n",
       "      <td>0.008929</td>\n",
       "      <td>-0.914787</td>\n",
       "      <td>24</td>\n",
       "      <td>14.0</td>\n",
       "      <td>10</td>\n",
       "      <td>...</td>\n",
       "      <td>140.0</td>\n",
       "      <td>0.008929</td>\n",
       "      <td>1234</td>\n",
       "      <td>5</td>\n",
       "      <td>0.0</td>\n",
       "      <td>0</td>\n",
       "      <td>0.008929</td>\n",
       "      <td>6.0</td>\n",
       "      <td>5.0</td>\n",
       "      <td>5.0</td>\n",
       "    </tr>\n",
       "    <tr>\n",
       "      <th>3</th>\n",
       "      <td>4</td>\n",
       "      <td>63</td>\n",
       "      <td>47.0</td>\n",
       "      <td>44.0</td>\n",
       "      <td>41.0</td>\n",
       "      <td>0.012111</td>\n",
       "      <td>-0.598361</td>\n",
       "      <td>30</td>\n",
       "      <td>29.0</td>\n",
       "      <td>24</td>\n",
       "      <td>...</td>\n",
       "      <td>138.0</td>\n",
       "      <td>0.012469</td>\n",
       "      <td>2492</td>\n",
       "      <td>5</td>\n",
       "      <td>5.0</td>\n",
       "      <td>3</td>\n",
       "      <td>0.004988</td>\n",
       "      <td>7.0</td>\n",
       "      <td>6.0</td>\n",
       "      <td>5.0</td>\n",
       "    </tr>\n",
       "    <tr>\n",
       "      <th>4</th>\n",
       "      <td>5</td>\n",
       "      <td>63</td>\n",
       "      <td>47.0</td>\n",
       "      <td>45.5</td>\n",
       "      <td>42.0</td>\n",
       "      <td>0.008292</td>\n",
       "      <td>-0.444039</td>\n",
       "      <td>32</td>\n",
       "      <td>27.5</td>\n",
       "      <td>20</td>\n",
       "      <td>...</td>\n",
       "      <td>138.0</td>\n",
       "      <td>0.008292</td>\n",
       "      <td>2956</td>\n",
       "      <td>6</td>\n",
       "      <td>4.0</td>\n",
       "      <td>1</td>\n",
       "      <td>0.008489</td>\n",
       "      <td>6.0</td>\n",
       "      <td>5.0</td>\n",
       "      <td>5.0</td>\n",
       "    </tr>\n",
       "  </tbody>\n",
       "</table>\n",
       "<p>5 rows × 101 columns</p>\n",
       "</div>"
      ],
      "text/plain": [
       "   ID  Age_mean  Albumin_max  Albumin_median  Albumin_min  Albumin_range  \\\n",
       "0   1        65         57.0            40.5         38.0       0.066202   \n",
       "1   2        48         45.0            41.0         39.0       0.010453   \n",
       "2   3        38         50.0            47.0         45.0       0.008929   \n",
       "3   4        63         47.0            44.0         41.0       0.012111   \n",
       "4   5        63         47.0            45.5         42.0       0.008292   \n",
       "\n",
       "   ALSFRS_slope  ALSFRS_Total_max  ALSFRS_Total_median  ALSFRS_Total_min  ...  \\\n",
       "0     -0.965608                30                 28.0                22  ...   \n",
       "1     -0.921717                37                 33.0                21  ...   \n",
       "2     -0.914787                24                 14.0                10  ...   \n",
       "3     -0.598361                30                 29.0                24  ...   \n",
       "4     -0.444039                32                 27.5                20  ...   \n",
       "\n",
       "   Sodium_min  Sodium_range  SubjectID  trunk_max  trunk_median  trunk_min  \\\n",
       "0       143.0      0.017422        533          8           7.0          7   \n",
       "1       136.0      0.010453        649          8           7.0          5   \n",
       "2       140.0      0.008929       1234          5           0.0          0   \n",
       "3       138.0      0.012469       2492          5           5.0          3   \n",
       "4       138.0      0.008292       2956          6           4.0          1   \n",
       "\n",
       "   trunk_range  Urine.Ph_max  Urine.Ph_median  Urine.Ph_min  \n",
       "0     0.002646           6.0              6.0           6.0  \n",
       "1     0.005386           7.0              5.0           5.0  \n",
       "2     0.008929           6.0              5.0           5.0  \n",
       "3     0.004988           7.0              6.0           5.0  \n",
       "4     0.008489           6.0              5.0           5.0  \n",
       "\n",
       "[5 rows x 101 columns]"
      ]
     },
     "execution_count": 5,
     "metadata": {},
     "output_type": "execute_result"
    }
   ],
   "source": [
    "df.head()"
   ]
  },
  {
   "cell_type": "code",
   "execution_count": 6,
   "id": "bde24e16-eb6f-4d01-a5f7-6f57257f1e79",
   "metadata": {},
   "outputs": [
    {
     "name": "stdout",
     "output_type": "stream",
     "text": [
      "['ID', 'Age_mean', 'Albumin_max', 'Albumin_median', 'Albumin_min', 'Albumin_range', 'ALSFRS_slope', 'ALSFRS_Total_max', 'ALSFRS_Total_median', 'ALSFRS_Total_min', 'ALSFRS_Total_range', 'ALT.SGPT._max', 'ALT.SGPT._median', 'ALT.SGPT._min', 'ALT.SGPT._range', 'AST.SGOT._max', 'AST.SGOT._median', 'AST.SGOT._min', 'AST.SGOT._range', 'Bicarbonate_max', 'Bicarbonate_median', 'Bicarbonate_min', 'Bicarbonate_range', 'Blood.Urea.Nitrogen..BUN._max', 'Blood.Urea.Nitrogen..BUN._median', 'Blood.Urea.Nitrogen..BUN._min', 'Blood.Urea.Nitrogen..BUN._range', 'bp_diastolic_max', 'bp_diastolic_median', 'bp_diastolic_min', 'bp_diastolic_range', 'bp_systolic_max', 'bp_systolic_median', 'bp_systolic_min', 'bp_systolic_range', 'Calcium_max', 'Calcium_median', 'Calcium_min', 'Calcium_range', 'Chloride_max', 'Chloride_median', 'Chloride_min', 'Chloride_range', 'Creatinine_max', 'Creatinine_median', 'Creatinine_min', 'Creatinine_range', 'Gender_mean', 'Glucose_max', 'Glucose_median', 'Glucose_min', 'Glucose_range', 'hands_max', 'hands_median', 'hands_min', 'hands_range', 'Hematocrit_max', 'Hematocrit_median', 'Hematocrit_min', 'Hematocrit_range', 'Hemoglobin_max', 'Hemoglobin_median', 'Hemoglobin_min', 'Hemoglobin_range', 'leg_max', 'leg_median', 'leg_min', 'leg_range', 'mouth_max', 'mouth_median', 'mouth_min', 'mouth_range', 'onset_delta_mean', 'onset_site_mean', 'Platelets_max', 'Platelets_median', 'Platelets_min', 'Potassium_max', 'Potassium_median', 'Potassium_min', 'Potassium_range', 'pulse_max', 'pulse_median', 'pulse_min', 'pulse_range', 'respiratory_max', 'respiratory_median', 'respiratory_min', 'respiratory_range', 'Sodium_max', 'Sodium_median', 'Sodium_min', 'Sodium_range', 'SubjectID', 'trunk_max', 'trunk_median', 'trunk_min', 'trunk_range', 'Urine.Ph_max', 'Urine.Ph_median', 'Urine.Ph_min']\n"
     ]
    }
   ],
   "source": [
    "print(df.columns.tolist())\n"
   ]
  },
  {
   "cell_type": "markdown",
   "id": "ed8b7bb1-ae22-48c9-8c21-5efff180efe5",
   "metadata": {},
   "source": [
    "## 1. Remove any data that is not relevant to the patient’s ALS condition."
   ]
  },
  {
   "cell_type": "code",
   "execution_count": null,
   "id": "5afcfc7f-f4bb-415f-a10f-a6aa7e582622",
   "metadata": {},
   "outputs": [],
   "source": []
  },
  {
   "cell_type": "code",
   "execution_count": null,
   "id": "81ff5ddf-745a-4dae-a7ff-a505f31c073e",
   "metadata": {},
   "outputs": [],
   "source": []
  },
  {
   "cell_type": "code",
   "execution_count": null,
   "id": "8449905e-1dc0-4a53-b2de-f6495e82ae1b",
   "metadata": {},
   "outputs": [],
   "source": []
  },
  {
   "cell_type": "code",
   "execution_count": 8,
   "id": "e5b1addb-411b-4ef9-ba53-5c577a1e0fd2",
   "metadata": {},
   "outputs": [],
   "source": [
    "#placeholder comment, did the bare minmum just to get moving on the project\n",
    "df = df.drop(['ID','SubjectID'],axis=1)"
   ]
  },
  {
   "cell_type": "code",
   "execution_count": 9,
   "id": "d82d8d6b-5862-433a-bed4-6292939ad80e",
   "metadata": {},
   "outputs": [
    {
     "data": {
      "text/plain": [
       "(2223, 99)"
      ]
     },
     "execution_count": 9,
     "metadata": {},
     "output_type": "execute_result"
    }
   ],
   "source": [
    "df.shape"
   ]
  },
  {
   "cell_type": "code",
   "execution_count": 10,
   "id": "c2f74f1b-a542-4fac-b1b1-249fe77740c9",
   "metadata": {},
   "outputs": [],
   "source": [
    "#drop any null rows\n",
    "df.dropna(inplace=True)"
   ]
  },
  {
   "cell_type": "code",
   "execution_count": null,
   "id": "4ed47b7e-b633-42e8-a74b-75e4184f9607",
   "metadata": {},
   "outputs": [],
   "source": []
  },
  {
   "cell_type": "code",
   "execution_count": null,
   "id": "ab22018a-ce78-47a7-bd5c-27bd1c4f40ee",
   "metadata": {},
   "outputs": [],
   "source": []
  },
  {
   "cell_type": "code",
   "execution_count": null,
   "id": "0843c0a4-473f-440e-b7da-1c3dc7080fe1",
   "metadata": {},
   "outputs": [],
   "source": []
  },
  {
   "cell_type": "markdown",
   "id": "e6e5252d-e926-43e1-ad57-bac9c9511f5a",
   "metadata": {},
   "source": [
    "## 2. Apply a standard scalar to the data."
   ]
  },
  {
   "cell_type": "code",
   "execution_count": 12,
   "id": "0c99feef-b387-42b3-88ea-6c763f8e1d64",
   "metadata": {},
   "outputs": [
    {
     "data": {
      "text/plain": [
       "(2223, 99)"
      ]
     },
     "execution_count": 12,
     "metadata": {},
     "output_type": "execute_result"
    }
   ],
   "source": [
    "\n",
    "#it appears the previous step was unessisary \n",
    "df.shape\n",
    "\n"
   ]
  },
  {
   "cell_type": "code",
   "execution_count": null,
   "id": "82fc1ca1-11c9-4e39-aefc-b5b515752b4c",
   "metadata": {},
   "outputs": [],
   "source": []
  },
  {
   "cell_type": "code",
   "execution_count": 13,
   "id": "cb868686-d2b0-47cb-9b74-e42a2afc1681",
   "metadata": {},
   "outputs": [],
   "source": [
    "#store the value of the collumns for the next step\n",
    "columns =  df.columns"
   ]
  },
  {
   "cell_type": "code",
   "execution_count": null,
   "id": "b540977b-87eb-418d-b4a1-40bf27da8e4f",
   "metadata": {},
   "outputs": [],
   "source": []
  },
  {
   "cell_type": "code",
   "execution_count": 14,
   "id": "4183871f-1060-4ffb-ab8f-b1d23e803b9e",
   "metadata": {},
   "outputs": [],
   "source": [
    "#scale the data using standard scaler\n",
    "from sklearn.preprocessing import StandardScaler\n",
    "\n",
    "\n",
    "\n",
    "sc = StandardScaler()\n",
    "scaled_data = sc.fit_transform(df)\n",
    "#convert the resulting array back into a df\n",
    "scaled_data = pd.DataFrame(scaled_data,columns = columns)\n",
    "\n",
    "\n"
   ]
  },
  {
   "cell_type": "code",
   "execution_count": 15,
   "id": "3ac68948-7218-4e20-b53e-5c26df1cefdf",
   "metadata": {},
   "outputs": [
    {
     "data": {
      "text/html": [
       "<div>\n",
       "<style scoped>\n",
       "    .dataframe tbody tr th:only-of-type {\n",
       "        vertical-align: middle;\n",
       "    }\n",
       "\n",
       "    .dataframe tbody tr th {\n",
       "        vertical-align: top;\n",
       "    }\n",
       "\n",
       "    .dataframe thead th {\n",
       "        text-align: right;\n",
       "    }\n",
       "</style>\n",
       "<table border=\"1\" class=\"dataframe\">\n",
       "  <thead>\n",
       "    <tr style=\"text-align: right;\">\n",
       "      <th></th>\n",
       "      <th>Age_mean</th>\n",
       "      <th>Albumin_max</th>\n",
       "      <th>Albumin_median</th>\n",
       "      <th>Albumin_min</th>\n",
       "      <th>Albumin_range</th>\n",
       "      <th>ALSFRS_slope</th>\n",
       "      <th>ALSFRS_Total_max</th>\n",
       "      <th>ALSFRS_Total_median</th>\n",
       "      <th>ALSFRS_Total_min</th>\n",
       "      <th>ALSFRS_Total_range</th>\n",
       "      <th>...</th>\n",
       "      <th>Sodium_median</th>\n",
       "      <th>Sodium_min</th>\n",
       "      <th>Sodium_range</th>\n",
       "      <th>trunk_max</th>\n",
       "      <th>trunk_median</th>\n",
       "      <th>trunk_min</th>\n",
       "      <th>trunk_range</th>\n",
       "      <th>Urine.Ph_max</th>\n",
       "      <th>Urine.Ph_median</th>\n",
       "      <th>Urine.Ph_min</th>\n",
       "    </tr>\n",
       "  </thead>\n",
       "  <tbody>\n",
       "    <tr>\n",
       "      <th>0</th>\n",
       "      <td>0.917137</td>\n",
       "      <td>3.089417</td>\n",
       "      <td>-1.300781</td>\n",
       "      <td>-0.866550</td>\n",
       "      <td>5.480929</td>\n",
       "      <td>-0.381450</td>\n",
       "      <td>-0.318520</td>\n",
       "      <td>0.134960</td>\n",
       "      <td>0.247368</td>\n",
       "      <td>-0.301588</td>\n",
       "      <td>...</td>\n",
       "      <td>2.992342</td>\n",
       "      <td>2.300470</td>\n",
       "      <td>0.260968</td>\n",
       "      <td>1.028018</td>\n",
       "      <td>0.981832</td>\n",
       "      <td>1.715365</td>\n",
       "      <td>-0.997420</td>\n",
       "      <td>-0.880376</td>\n",
       "      <td>0.463054</td>\n",
       "      <td>1.868532</td>\n",
       "    </tr>\n",
       "    <tr>\n",
       "      <th>1</th>\n",
       "      <td>-0.574879</td>\n",
       "      <td>-0.622016</td>\n",
       "      <td>-1.112401</td>\n",
       "      <td>-0.553303</td>\n",
       "      <td>-0.347725</td>\n",
       "      <td>-0.310907</td>\n",
       "      <td>0.998995</td>\n",
       "      <td>0.888863</td>\n",
       "      <td>0.130839</td>\n",
       "      <td>0.166537</td>\n",
       "      <td>...</td>\n",
       "      <td>-1.198812</td>\n",
       "      <td>-0.278144</td>\n",
       "      <td>-0.489913</td>\n",
       "      <td>1.028018</td>\n",
       "      <td>0.981832</td>\n",
       "      <td>0.867032</td>\n",
       "      <td>-0.388669</td>\n",
       "      <td>0.192665</td>\n",
       "      <td>-1.137208</td>\n",
       "      <td>-0.419151</td>\n",
       "    </tr>\n",
       "    <tr>\n",
       "      <th>2</th>\n",
       "      <td>-1.452535</td>\n",
       "      <td>0.924415</td>\n",
       "      <td>1.148162</td>\n",
       "      <td>1.326179</td>\n",
       "      <td>-0.507103</td>\n",
       "      <td>-0.299769</td>\n",
       "      <td>-1.447819</td>\n",
       "      <td>-1.975969</td>\n",
       "      <td>-1.150976</td>\n",
       "      <td>-0.064100</td>\n",
       "      <td>...</td>\n",
       "      <td>1.595291</td>\n",
       "      <td>1.195350</td>\n",
       "      <td>-0.654169</td>\n",
       "      <td>-0.688950</td>\n",
       "      <td>-2.280669</td>\n",
       "      <td>-1.253800</td>\n",
       "      <td>0.398249</td>\n",
       "      <td>-0.880376</td>\n",
       "      <td>-1.137208</td>\n",
       "      <td>-0.419151</td>\n",
       "    </tr>\n",
       "    <tr>\n",
       "      <th>3</th>\n",
       "      <td>0.741606</td>\n",
       "      <td>-0.003443</td>\n",
       "      <td>0.017880</td>\n",
       "      <td>0.073191</td>\n",
       "      <td>-0.174361</td>\n",
       "      <td>0.208801</td>\n",
       "      <td>-0.318520</td>\n",
       "      <td>0.285741</td>\n",
       "      <td>0.480425</td>\n",
       "      <td>-0.685524</td>\n",
       "      <td>...</td>\n",
       "      <td>-0.639992</td>\n",
       "      <td>0.458603</td>\n",
       "      <td>-0.272701</td>\n",
       "      <td>-0.688950</td>\n",
       "      <td>0.049689</td>\n",
       "      <td>0.018699</td>\n",
       "      <td>-0.477181</td>\n",
       "      <td>0.192665</td>\n",
       "      <td>0.463054</td>\n",
       "      <td>-0.419151</td>\n",
       "    </tr>\n",
       "    <tr>\n",
       "      <th>4</th>\n",
       "      <td>0.741606</td>\n",
       "      <td>-0.003443</td>\n",
       "      <td>0.583021</td>\n",
       "      <td>0.386438</td>\n",
       "      <td>-0.573670</td>\n",
       "      <td>0.456831</td>\n",
       "      <td>0.057913</td>\n",
       "      <td>0.059570</td>\n",
       "      <td>0.014311</td>\n",
       "      <td>-0.350529</td>\n",
       "      <td>...</td>\n",
       "      <td>-0.081171</td>\n",
       "      <td>0.458603</td>\n",
       "      <td>-0.722774</td>\n",
       "      <td>-0.116627</td>\n",
       "      <td>-0.416383</td>\n",
       "      <td>-0.829634</td>\n",
       "      <td>0.300598</td>\n",
       "      <td>-0.880376</td>\n",
       "      <td>-1.137208</td>\n",
       "      <td>-0.419151</td>\n",
       "    </tr>\n",
       "  </tbody>\n",
       "</table>\n",
       "<p>5 rows × 99 columns</p>\n",
       "</div>"
      ],
      "text/plain": [
       "   Age_mean  Albumin_max  Albumin_median  Albumin_min  Albumin_range  \\\n",
       "0  0.917137     3.089417       -1.300781    -0.866550       5.480929   \n",
       "1 -0.574879    -0.622016       -1.112401    -0.553303      -0.347725   \n",
       "2 -1.452535     0.924415        1.148162     1.326179      -0.507103   \n",
       "3  0.741606    -0.003443        0.017880     0.073191      -0.174361   \n",
       "4  0.741606    -0.003443        0.583021     0.386438      -0.573670   \n",
       "\n",
       "   ALSFRS_slope  ALSFRS_Total_max  ALSFRS_Total_median  ALSFRS_Total_min  \\\n",
       "0     -0.381450         -0.318520             0.134960          0.247368   \n",
       "1     -0.310907          0.998995             0.888863          0.130839   \n",
       "2     -0.299769         -1.447819            -1.975969         -1.150976   \n",
       "3      0.208801         -0.318520             0.285741          0.480425   \n",
       "4      0.456831          0.057913             0.059570          0.014311   \n",
       "\n",
       "   ALSFRS_Total_range  ...  Sodium_median  Sodium_min  Sodium_range  \\\n",
       "0           -0.301588  ...       2.992342    2.300470      0.260968   \n",
       "1            0.166537  ...      -1.198812   -0.278144     -0.489913   \n",
       "2           -0.064100  ...       1.595291    1.195350     -0.654169   \n",
       "3           -0.685524  ...      -0.639992    0.458603     -0.272701   \n",
       "4           -0.350529  ...      -0.081171    0.458603     -0.722774   \n",
       "\n",
       "   trunk_max  trunk_median  trunk_min  trunk_range  Urine.Ph_max  \\\n",
       "0   1.028018      0.981832   1.715365    -0.997420     -0.880376   \n",
       "1   1.028018      0.981832   0.867032    -0.388669      0.192665   \n",
       "2  -0.688950     -2.280669  -1.253800     0.398249     -0.880376   \n",
       "3  -0.688950      0.049689   0.018699    -0.477181      0.192665   \n",
       "4  -0.116627     -0.416383  -0.829634     0.300598     -0.880376   \n",
       "\n",
       "   Urine.Ph_median  Urine.Ph_min  \n",
       "0         0.463054      1.868532  \n",
       "1        -1.137208     -0.419151  \n",
       "2        -1.137208     -0.419151  \n",
       "3         0.463054     -0.419151  \n",
       "4        -1.137208     -0.419151  \n",
       "\n",
       "[5 rows x 99 columns]"
      ]
     },
     "execution_count": 15,
     "metadata": {},
     "output_type": "execute_result"
    }
   ],
   "source": [
    "#verifying the scaler worked\n",
    "scaled_data.head()"
   ]
  },
  {
   "cell_type": "code",
   "execution_count": null,
   "id": "b940af7f-7c06-4e38-8fed-528f0abb25f6",
   "metadata": {},
   "outputs": [],
   "source": []
  },
  {
   "cell_type": "code",
   "execution_count": null,
   "id": "de83c499-58a8-4fb4-9645-88bacfbc7272",
   "metadata": {},
   "outputs": [],
   "source": []
  },
  {
   "cell_type": "code",
   "execution_count": null,
   "id": "435165a1-7208-432d-bddb-a09e4657a6f0",
   "metadata": {},
   "outputs": [],
   "source": []
  },
  {
   "cell_type": "markdown",
   "id": "a1029db4-032d-4093-bc8b-607004e8011e",
   "metadata": {},
   "source": [
    "## 3. Create a plot of the cluster silhouette score versus the number of clusters in a K-means cluster."
   ]
  },
  {
   "cell_type": "code",
   "execution_count": 17,
   "id": "ee2b1d77-22ba-4aed-987f-eacbbd81e731",
   "metadata": {},
   "outputs": [],
   "source": [
    "\n",
    "from sklearn.cluster import KMeans\n",
    "from sklearn.metrics import silhouette_score"
   ]
  },
  {
   "cell_type": "code",
   "execution_count": 18,
   "id": "fb78c2d3-79be-4af2-afe3-cfc81247f4c4",
   "metadata": {},
   "outputs": [],
   "source": [
    "# Instantiate model\n",
    "#kmeans3 = KMeans(n_clusters=3, random_state=42)"
   ]
  },
  {
   "cell_type": "code",
   "execution_count": null,
   "id": "50a1f558-8a92-4092-a64b-6c24efa22ad8",
   "metadata": {},
   "outputs": [],
   "source": []
  },
  {
   "cell_type": "code",
   "execution_count": 19,
   "id": "f0c7060f-2449-43b5-b116-dac63322cda6",
   "metadata": {},
   "outputs": [],
   "source": [
    "#kmeans3.fit(scaled_data)"
   ]
  },
  {
   "cell_type": "code",
   "execution_count": null,
   "id": "9b33d917-b3b9-4abc-8ffd-2fc9418c6893",
   "metadata": {},
   "outputs": [],
   "source": []
  },
  {
   "cell_type": "code",
   "execution_count": 20,
   "id": "79ac62c6-5859-451b-b3c1-069a6f63326b",
   "metadata": {},
   "outputs": [],
   "source": [
    "# Create a list from 2-10. \n",
    "num_clusters = [i for i in range(2, 11)]\n",
    "\n",
    "#run models with k values of 2-10 and \n",
    "def kmeans_inertia(num_clusters, x_vals):\n",
    "\n",
    "\n",
    "    inertia = []\n",
    "    for num in num_clusters:\n",
    "        kms = KMeans(n_clusters=num, random_state=42)\n",
    "        kms.fit(x_vals)\n",
    "        inertia.append(kms.inertia_)\n",
    "    \n",
    "    return inertia"
   ]
  },
  {
   "cell_type": "code",
   "execution_count": 21,
   "id": "125f0947-3a30-47e9-b212-26f2e9059a5f",
   "metadata": {},
   "outputs": [
    {
     "name": "stderr",
     "output_type": "stream",
     "text": [
      "C:\\Users\\kings\\anaconda3\\Lib\\site-packages\\sklearn\\cluster\\_kmeans.py:870: FutureWarning: The default value of `n_init` will change from 10 to 'auto' in 1.4. Set the value of `n_init` explicitly to suppress the warning\n",
      "  warnings.warn(\n",
      "C:\\Users\\kings\\anaconda3\\Lib\\site-packages\\sklearn\\cluster\\_kmeans.py:1382: UserWarning: KMeans is known to have a memory leak on Windows with MKL, when there are less chunks than available threads. You can avoid it by setting the environment variable OMP_NUM_THREADS=9.\n",
      "  warnings.warn(\n",
      "C:\\Users\\kings\\anaconda3\\Lib\\site-packages\\sklearn\\cluster\\_kmeans.py:870: FutureWarning: The default value of `n_init` will change from 10 to 'auto' in 1.4. Set the value of `n_init` explicitly to suppress the warning\n",
      "  warnings.warn(\n",
      "C:\\Users\\kings\\anaconda3\\Lib\\site-packages\\sklearn\\cluster\\_kmeans.py:1382: UserWarning: KMeans is known to have a memory leak on Windows with MKL, when there are less chunks than available threads. You can avoid it by setting the environment variable OMP_NUM_THREADS=9.\n",
      "  warnings.warn(\n",
      "C:\\Users\\kings\\anaconda3\\Lib\\site-packages\\sklearn\\cluster\\_kmeans.py:870: FutureWarning: The default value of `n_init` will change from 10 to 'auto' in 1.4. Set the value of `n_init` explicitly to suppress the warning\n",
      "  warnings.warn(\n",
      "C:\\Users\\kings\\anaconda3\\Lib\\site-packages\\sklearn\\cluster\\_kmeans.py:1382: UserWarning: KMeans is known to have a memory leak on Windows with MKL, when there are less chunks than available threads. You can avoid it by setting the environment variable OMP_NUM_THREADS=9.\n",
      "  warnings.warn(\n",
      "C:\\Users\\kings\\anaconda3\\Lib\\site-packages\\sklearn\\cluster\\_kmeans.py:870: FutureWarning: The default value of `n_init` will change from 10 to 'auto' in 1.4. Set the value of `n_init` explicitly to suppress the warning\n",
      "  warnings.warn(\n",
      "C:\\Users\\kings\\anaconda3\\Lib\\site-packages\\sklearn\\cluster\\_kmeans.py:1382: UserWarning: KMeans is known to have a memory leak on Windows with MKL, when there are less chunks than available threads. You can avoid it by setting the environment variable OMP_NUM_THREADS=9.\n",
      "  warnings.warn(\n",
      "C:\\Users\\kings\\anaconda3\\Lib\\site-packages\\sklearn\\cluster\\_kmeans.py:870: FutureWarning: The default value of `n_init` will change from 10 to 'auto' in 1.4. Set the value of `n_init` explicitly to suppress the warning\n",
      "  warnings.warn(\n",
      "C:\\Users\\kings\\anaconda3\\Lib\\site-packages\\sklearn\\cluster\\_kmeans.py:1382: UserWarning: KMeans is known to have a memory leak on Windows with MKL, when there are less chunks than available threads. You can avoid it by setting the environment variable OMP_NUM_THREADS=9.\n",
      "  warnings.warn(\n",
      "C:\\Users\\kings\\anaconda3\\Lib\\site-packages\\sklearn\\cluster\\_kmeans.py:870: FutureWarning: The default value of `n_init` will change from 10 to 'auto' in 1.4. Set the value of `n_init` explicitly to suppress the warning\n",
      "  warnings.warn(\n",
      "C:\\Users\\kings\\anaconda3\\Lib\\site-packages\\sklearn\\cluster\\_kmeans.py:1382: UserWarning: KMeans is known to have a memory leak on Windows with MKL, when there are less chunks than available threads. You can avoid it by setting the environment variable OMP_NUM_THREADS=9.\n",
      "  warnings.warn(\n",
      "C:\\Users\\kings\\anaconda3\\Lib\\site-packages\\sklearn\\cluster\\_kmeans.py:870: FutureWarning: The default value of `n_init` will change from 10 to 'auto' in 1.4. Set the value of `n_init` explicitly to suppress the warning\n",
      "  warnings.warn(\n",
      "C:\\Users\\kings\\anaconda3\\Lib\\site-packages\\sklearn\\cluster\\_kmeans.py:1382: UserWarning: KMeans is known to have a memory leak on Windows with MKL, when there are less chunks than available threads. You can avoid it by setting the environment variable OMP_NUM_THREADS=9.\n",
      "  warnings.warn(\n",
      "C:\\Users\\kings\\anaconda3\\Lib\\site-packages\\sklearn\\cluster\\_kmeans.py:870: FutureWarning: The default value of `n_init` will change from 10 to 'auto' in 1.4. Set the value of `n_init` explicitly to suppress the warning\n",
      "  warnings.warn(\n",
      "C:\\Users\\kings\\anaconda3\\Lib\\site-packages\\sklearn\\cluster\\_kmeans.py:1382: UserWarning: KMeans is known to have a memory leak on Windows with MKL, when there are less chunks than available threads. You can avoid it by setting the environment variable OMP_NUM_THREADS=9.\n",
      "  warnings.warn(\n",
      "C:\\Users\\kings\\anaconda3\\Lib\\site-packages\\sklearn\\cluster\\_kmeans.py:870: FutureWarning: The default value of `n_init` will change from 10 to 'auto' in 1.4. Set the value of `n_init` explicitly to suppress the warning\n",
      "  warnings.warn(\n",
      "C:\\Users\\kings\\anaconda3\\Lib\\site-packages\\sklearn\\cluster\\_kmeans.py:1382: UserWarning: KMeans is known to have a memory leak on Windows with MKL, when there are less chunks than available threads. You can avoid it by setting the environment variable OMP_NUM_THREADS=9.\n",
      "  warnings.warn(\n"
     ]
    }
   ],
   "source": [
    "inertia = kmeans_inertia(num_clusters, scaled_data)\n",
    "#inertia"
   ]
  },
  {
   "cell_type": "code",
   "execution_count": 22,
   "id": "40b7b3f3-5629-400b-8660-a0b2bfe55023",
   "metadata": {},
   "outputs": [
    {
     "name": "stderr",
     "output_type": "stream",
     "text": [
      "C:\\Users\\kings\\anaconda3\\Lib\\site-packages\\seaborn\\_oldcore.py:1119: FutureWarning: use_inf_as_na option is deprecated and will be removed in a future version. Convert inf values to NaN before operating instead.\n",
      "  with pd.option_context('mode.use_inf_as_na', True):\n",
      "C:\\Users\\kings\\anaconda3\\Lib\\site-packages\\seaborn\\_oldcore.py:1119: FutureWarning: use_inf_as_na option is deprecated and will be removed in a future version. Convert inf values to NaN before operating instead.\n",
      "  with pd.option_context('mode.use_inf_as_na', True):\n"
     ]
    },
    {
     "data": {
      "image/png": "[encoded data removed]",
      "text/plain": [
       "<Figure size 640x480 with 1 Axes>"
      ]
     },
     "metadata": {},
     "output_type": "display_data"
    }
   ],
   "source": [
    "# Create an elbow plot\n",
    "plot = sns.lineplot(x=num_clusters, y=inertia)\n",
    "plot.set_xlabel(\"Number of clusters\");\n",
    "plot.set_ylabel(\"Inertia\");"
   ]
  },
  {
   "cell_type": "code",
   "execution_count": null,
   "id": "ef23ab70-fe1e-44a5-887c-dac29e0440ca",
   "metadata": {},
   "outputs": [],
   "source": []
  },
  {
   "cell_type": "code",
   "execution_count": null,
   "id": "0a220daa-1084-4180-88c2-a361a23aab93",
   "metadata": {},
   "outputs": [],
   "source": []
  },
  {
   "cell_type": "code",
   "execution_count": null,
   "id": "6451464b-e347-46dc-9fc5-4e4fb1c0672a",
   "metadata": {},
   "outputs": [],
   "source": []
  },
  {
   "cell_type": "markdown",
   "id": "59694e58-4d4b-4f39-a60f-31b5022aa03e",
   "metadata": {},
   "source": [
    "## 4. Use the plot created in (3) to choose on optimal number of clusters for K-means. Justify your choice."
   ]
  },
  {
   "cell_type": "code",
   "execution_count": 24,
   "id": "cf42c717-414c-4818-91d6-77c49d5cd95c",
   "metadata": {},
   "outputs": [],
   "source": [
    "#it looks like the elbow is at 3 or 6 I'm going to use 6 for this dataset"
   ]
  },
  {
   "cell_type": "code",
   "execution_count": null,
   "id": "1b83b598-1b21-4484-92a6-52a4f8d66d20",
   "metadata": {},
   "outputs": [],
   "source": []
  },
  {
   "cell_type": "code",
   "execution_count": null,
   "id": "eefd46e4-c96f-4c7d-8e15-cc7535a69812",
   "metadata": {},
   "outputs": [],
   "source": []
  },
  {
   "cell_type": "code",
   "execution_count": null,
   "id": "c683cc36-38a9-44c3-9204-d1110ccfa3c0",
   "metadata": {},
   "outputs": [],
   "source": []
  },
  {
   "cell_type": "markdown",
   "id": "f3fdd004-533a-4d5f-8652-39d7a865d129",
   "metadata": {},
   "source": [
    "## 5. Fit a K-means model to the data with the optimal number of clusters chosen in part (4)."
   ]
  },
  {
   "cell_type": "code",
   "execution_count": 26,
   "id": "d7df64f3-1d2c-409a-b202-b737bf5adc02",
   "metadata": {},
   "outputs": [],
   "source": [
    "#initiate and fit the model with 6 clusters\n",
    "kmeans6 = KMeans(n_clusters=6,init= 'k-means++',random_state=42)"
   ]
  },
  {
   "cell_type": "code",
   "execution_count": 27,
   "id": "05208ffe-7f7a-4169-80e1-342e99b93e7f",
   "metadata": {},
   "outputs": [
    {
     "name": "stderr",
     "output_type": "stream",
     "text": [
      "C:\\Users\\kings\\anaconda3\\Lib\\site-packages\\sklearn\\cluster\\_kmeans.py:870: FutureWarning: The default value of `n_init` will change from 10 to 'auto' in 1.4. Set the value of `n_init` explicitly to suppress the warning\n",
      "  warnings.warn(\n",
      "C:\\Users\\kings\\anaconda3\\Lib\\site-packages\\sklearn\\cluster\\_kmeans.py:1382: UserWarning: KMeans is known to have a memory leak on Windows with MKL, when there are less chunks than available threads. You can avoid it by setting the environment variable OMP_NUM_THREADS=9.\n",
      "  warnings.warn(\n"
     ]
    },
    {
     "data": {
      "text/html": [
       "<style>#sk-container-id-1 {color: black;background-color: white;}#sk-container-id-1 pre{padding: 0;}#sk-container-id-1 div.sk-toggleable {background-color: white;}#sk-container-id-1 label.sk-toggleable__label {cursor: pointer;display: block;width: 100%;margin-bottom: 0;padding: 0.3em;box-sizing: border-box;text-align: center;}#sk-container-id-1 label.sk-toggleable__label-arrow:before {content: \"▸\";float: left;margin-right: 0.25em;color: #696969;}#sk-container-id-1 label.sk-toggleable__label-arrow:hover:before {color: black;}#sk-container-id-1 div.sk-estimator:hover label.sk-toggleable__label-arrow:before {color: black;}#sk-container-id-1 div.sk-toggleable__content {max-height: 0;max-width: 0;overflow: hidden;text-align: left;background-color: #f0f8ff;}#sk-container-id-1 div.sk-toggleable__content pre {margin: 0.2em;color: black;border-radius: 0.25em;background-color: #f0f8ff;}#sk-container-id-1 input.sk-toggleable__control:checked~div.sk-toggleable__content {max-height: 200px;max-width: 100%;overflow: auto;}#sk-container-id-1 input.sk-toggleable__control:checked~label.sk-toggleable__label-arrow:before {content: \"▾\";}#sk-container-id-1 div.sk-estimator input.sk-toggleable__control:checked~label.sk-toggleable__label {background-color: #d4ebff;}#sk-container-id-1 div.sk-label input.sk-toggleable__control:checked~label.sk-toggleable__label {background-color: #d4ebff;}#sk-container-id-1 input.sk-hidden--visually {border: 0;clip: rect(1px 1px 1px 1px);clip: rect(1px, 1px, 1px, 1px);height: 1px;margin: -1px;overflow: hidden;padding: 0;position: absolute;width: 1px;}#sk-container-id-1 div.sk-estimator {font-family: monospace;background-color: #f0f8ff;border: 1px dotted black;border-radius: 0.25em;box-sizing: border-box;margin-bottom: 0.5em;}#sk-container-id-1 div.sk-estimator:hover {background-color: #d4ebff;}#sk-container-id-1 div.sk-parallel-item::after {content: \"\";width: 100%;border-bottom: 1px solid gray;flex-grow: 1;}#sk-container-id-1 div.sk-label:hover label.sk-toggleable__label {background-color: #d4ebff;}#sk-container-id-1 div.sk-serial::before {content: \"\";position: absolute;border-left: 1px solid gray;box-sizing: border-box;top: 0;bottom: 0;left: 50%;z-index: 0;}#sk-container-id-1 div.sk-serial {display: flex;flex-direction: column;align-items: center;background-color: white;padding-right: 0.2em;padding-left: 0.2em;position: relative;}#sk-container-id-1 div.sk-item {position: relative;z-index: 1;}#sk-container-id-1 div.sk-parallel {display: flex;align-items: stretch;justify-content: center;background-color: white;position: relative;}#sk-container-id-1 div.sk-item::before, #sk-container-id-1 div.sk-parallel-item::before {content: \"\";position: absolute;border-left: 1px solid gray;box-sizing: border-box;top: 0;bottom: 0;left: 50%;z-index: -1;}#sk-container-id-1 div.sk-parallel-item {display: flex;flex-direction: column;z-index: 1;position: relative;background-color: white;}#sk-container-id-1 div.sk-parallel-item:first-child::after {align-self: flex-end;width: 50%;}#sk-container-id-1 div.sk-parallel-item:last-child::after {align-self: flex-start;width: 50%;}#sk-container-id-1 div.sk-parallel-item:only-child::after {width: 0;}#sk-container-id-1 div.sk-dashed-wrapped {border: 1px dashed gray;margin: 0 0.4em 0.5em 0.4em;box-sizing: border-box;padding-bottom: 0.4em;background-color: white;}#sk-container-id-1 div.sk-label label {font-family: monospace;font-weight: bold;display: inline-block;line-height: 1.2em;}#sk-container-id-1 div.sk-label-container {text-align: center;}#sk-container-id-1 div.sk-container {/* jupyter's `normalize.less` sets `[hidden] { display: none; }` but bootstrap.min.css set `[hidden] { display: none !important; }` so we also need the `!important` here to be able to override the default hidden behavior on the sphinx rendered scikit-learn.org. See: https://github.com/scikit-learn/scikit-learn/issues/21755 */display: inline-block !important;position: relative;}#sk-container-id-1 div.sk-text-repr-fallback {display: none;}</style><div id=\"sk-container-id-1\" class=\"sk-top-container\"><div class=\"sk-text-repr-fallback\"><pre>KMeans(n_clusters=6, random_state=42)</pre><b>In a Jupyter environment, please rerun this cell to show the HTML representation or trust the notebook. <br />On GitHub, the HTML representation is unable to render, please try loading this page with nbviewer.org.</b></div><div class=\"sk-container\" hidden><div class=\"sk-item\"><div class=\"sk-estimator sk-toggleable\"><input class=\"sk-toggleable__control sk-hidden--visually\" id=\"sk-estimator-id-1\" type=\"checkbox\" checked><label for=\"sk-estimator-id-1\" class=\"sk-toggleable__label sk-toggleable__label-arrow\">KMeans</label><div class=\"sk-toggleable__content\"><pre>KMeans(n_clusters=6, random_state=42)</pre></div></div></div></div></div>"
      ],
      "text/plain": [
       "KMeans(n_clusters=6, random_state=42)"
      ]
     },
     "execution_count": 27,
     "metadata": {},
     "output_type": "execute_result"
    }
   ],
   "source": [
    "kmeans6.fit(scaled_data)"
   ]
  },
  {
   "cell_type": "code",
   "execution_count": null,
   "id": "d14b4a98-102d-456b-b2e8-84d40f7764fc",
   "metadata": {},
   "outputs": [],
   "source": []
  },
  {
   "cell_type": "markdown",
   "id": "168bbe70-b6ff-4a8e-8792-3f0854a35053",
   "metadata": {},
   "source": [
    "## 6. Fit a PCA transformation with two features to the scaled data."
   ]
  },
  {
   "cell_type": "code",
   "execution_count": null,
   "id": "5c6c522b-d262-40b0-a00b-9c208e72cf49",
   "metadata": {},
   "outputs": [],
   "source": []
  },
  {
   "cell_type": "code",
   "execution_count": null,
   "id": "1e653013-6679-4ee2-bc4b-8cd7fa7b36b1",
   "metadata": {},
   "outputs": [],
   "source": [
    "\n"
   ]
  },
  {
   "cell_type": "code",
   "execution_count": 29,
   "id": "385946fb-28ec-4075-aece-505697f0124a",
   "metadata": {},
   "outputs": [
    {
     "data": {
      "text/html": [
       "<div>\n",
       "<style scoped>\n",
       "    .dataframe tbody tr th:only-of-type {\n",
       "        vertical-align: middle;\n",
       "    }\n",
       "\n",
       "    .dataframe tbody tr th {\n",
       "        vertical-align: top;\n",
       "    }\n",
       "\n",
       "    .dataframe thead th {\n",
       "        text-align: right;\n",
       "    }\n",
       "</style>\n",
       "<table border=\"1\" class=\"dataframe\">\n",
       "  <thead>\n",
       "    <tr style=\"text-align: right;\">\n",
       "      <th></th>\n",
       "      <th>Age_mean</th>\n",
       "      <th>Albumin_max</th>\n",
       "      <th>Albumin_median</th>\n",
       "      <th>Albumin_min</th>\n",
       "      <th>Albumin_range</th>\n",
       "      <th>ALSFRS_slope</th>\n",
       "      <th>ALSFRS_Total_max</th>\n",
       "      <th>ALSFRS_Total_median</th>\n",
       "      <th>ALSFRS_Total_min</th>\n",
       "      <th>ALSFRS_Total_range</th>\n",
       "      <th>...</th>\n",
       "      <th>Sodium_median</th>\n",
       "      <th>Sodium_min</th>\n",
       "      <th>Sodium_range</th>\n",
       "      <th>trunk_max</th>\n",
       "      <th>trunk_median</th>\n",
       "      <th>trunk_min</th>\n",
       "      <th>trunk_range</th>\n",
       "      <th>Urine.Ph_max</th>\n",
       "      <th>Urine.Ph_median</th>\n",
       "      <th>Urine.Ph_min</th>\n",
       "    </tr>\n",
       "  </thead>\n",
       "  <tbody>\n",
       "    <tr>\n",
       "      <th>0</th>\n",
       "      <td>0.917137</td>\n",
       "      <td>3.089417</td>\n",
       "      <td>-1.300781</td>\n",
       "      <td>-0.866550</td>\n",
       "      <td>5.480929</td>\n",
       "      <td>-0.381450</td>\n",
       "      <td>-0.318520</td>\n",
       "      <td>0.134960</td>\n",
       "      <td>0.247368</td>\n",
       "      <td>-0.301588</td>\n",
       "      <td>...</td>\n",
       "      <td>2.992342</td>\n",
       "      <td>2.300470</td>\n",
       "      <td>0.260968</td>\n",
       "      <td>1.028018</td>\n",
       "      <td>0.981832</td>\n",
       "      <td>1.715365</td>\n",
       "      <td>-0.997420</td>\n",
       "      <td>-0.880376</td>\n",
       "      <td>0.463054</td>\n",
       "      <td>1.868532</td>\n",
       "    </tr>\n",
       "    <tr>\n",
       "      <th>1</th>\n",
       "      <td>-0.574879</td>\n",
       "      <td>-0.622016</td>\n",
       "      <td>-1.112401</td>\n",
       "      <td>-0.553303</td>\n",
       "      <td>-0.347725</td>\n",
       "      <td>-0.310907</td>\n",
       "      <td>0.998995</td>\n",
       "      <td>0.888863</td>\n",
       "      <td>0.130839</td>\n",
       "      <td>0.166537</td>\n",
       "      <td>...</td>\n",
       "      <td>-1.198812</td>\n",
       "      <td>-0.278144</td>\n",
       "      <td>-0.489913</td>\n",
       "      <td>1.028018</td>\n",
       "      <td>0.981832</td>\n",
       "      <td>0.867032</td>\n",
       "      <td>-0.388669</td>\n",
       "      <td>0.192665</td>\n",
       "      <td>-1.137208</td>\n",
       "      <td>-0.419151</td>\n",
       "    </tr>\n",
       "    <tr>\n",
       "      <th>2</th>\n",
       "      <td>-1.452535</td>\n",
       "      <td>0.924415</td>\n",
       "      <td>1.148162</td>\n",
       "      <td>1.326179</td>\n",
       "      <td>-0.507103</td>\n",
       "      <td>-0.299769</td>\n",
       "      <td>-1.447819</td>\n",
       "      <td>-1.975969</td>\n",
       "      <td>-1.150976</td>\n",
       "      <td>-0.064100</td>\n",
       "      <td>...</td>\n",
       "      <td>1.595291</td>\n",
       "      <td>1.195350</td>\n",
       "      <td>-0.654169</td>\n",
       "      <td>-0.688950</td>\n",
       "      <td>-2.280669</td>\n",
       "      <td>-1.253800</td>\n",
       "      <td>0.398249</td>\n",
       "      <td>-0.880376</td>\n",
       "      <td>-1.137208</td>\n",
       "      <td>-0.419151</td>\n",
       "    </tr>\n",
       "    <tr>\n",
       "      <th>3</th>\n",
       "      <td>0.741606</td>\n",
       "      <td>-0.003443</td>\n",
       "      <td>0.017880</td>\n",
       "      <td>0.073191</td>\n",
       "      <td>-0.174361</td>\n",
       "      <td>0.208801</td>\n",
       "      <td>-0.318520</td>\n",
       "      <td>0.285741</td>\n",
       "      <td>0.480425</td>\n",
       "      <td>-0.685524</td>\n",
       "      <td>...</td>\n",
       "      <td>-0.639992</td>\n",
       "      <td>0.458603</td>\n",
       "      <td>-0.272701</td>\n",
       "      <td>-0.688950</td>\n",
       "      <td>0.049689</td>\n",
       "      <td>0.018699</td>\n",
       "      <td>-0.477181</td>\n",
       "      <td>0.192665</td>\n",
       "      <td>0.463054</td>\n",
       "      <td>-0.419151</td>\n",
       "    </tr>\n",
       "    <tr>\n",
       "      <th>4</th>\n",
       "      <td>0.741606</td>\n",
       "      <td>-0.003443</td>\n",
       "      <td>0.583021</td>\n",
       "      <td>0.386438</td>\n",
       "      <td>-0.573670</td>\n",
       "      <td>0.456831</td>\n",
       "      <td>0.057913</td>\n",
       "      <td>0.059570</td>\n",
       "      <td>0.014311</td>\n",
       "      <td>-0.350529</td>\n",
       "      <td>...</td>\n",
       "      <td>-0.081171</td>\n",
       "      <td>0.458603</td>\n",
       "      <td>-0.722774</td>\n",
       "      <td>-0.116627</td>\n",
       "      <td>-0.416383</td>\n",
       "      <td>-0.829634</td>\n",
       "      <td>0.300598</td>\n",
       "      <td>-0.880376</td>\n",
       "      <td>-1.137208</td>\n",
       "      <td>-0.419151</td>\n",
       "    </tr>\n",
       "  </tbody>\n",
       "</table>\n",
       "<p>5 rows × 99 columns</p>\n",
       "</div>"
      ],
      "text/plain": [
       "   Age_mean  Albumin_max  Albumin_median  Albumin_min  Albumin_range  \\\n",
       "0  0.917137     3.089417       -1.300781    -0.866550       5.480929   \n",
       "1 -0.574879    -0.622016       -1.112401    -0.553303      -0.347725   \n",
       "2 -1.452535     0.924415        1.148162     1.326179      -0.507103   \n",
       "3  0.741606    -0.003443        0.017880     0.073191      -0.174361   \n",
       "4  0.741606    -0.003443        0.583021     0.386438      -0.573670   \n",
       "\n",
       "   ALSFRS_slope  ALSFRS_Total_max  ALSFRS_Total_median  ALSFRS_Total_min  \\\n",
       "0     -0.381450         -0.318520             0.134960          0.247368   \n",
       "1     -0.310907          0.998995             0.888863          0.130839   \n",
       "2     -0.299769         -1.447819            -1.975969         -1.150976   \n",
       "3      0.208801         -0.318520             0.285741          0.480425   \n",
       "4      0.456831          0.057913             0.059570          0.014311   \n",
       "\n",
       "   ALSFRS_Total_range  ...  Sodium_median  Sodium_min  Sodium_range  \\\n",
       "0           -0.301588  ...       2.992342    2.300470      0.260968   \n",
       "1            0.166537  ...      -1.198812   -0.278144     -0.489913   \n",
       "2           -0.064100  ...       1.595291    1.195350     -0.654169   \n",
       "3           -0.685524  ...      -0.639992    0.458603     -0.272701   \n",
       "4           -0.350529  ...      -0.081171    0.458603     -0.722774   \n",
       "\n",
       "   trunk_max  trunk_median  trunk_min  trunk_range  Urine.Ph_max  \\\n",
       "0   1.028018      0.981832   1.715365    -0.997420     -0.880376   \n",
       "1   1.028018      0.981832   0.867032    -0.388669      0.192665   \n",
       "2  -0.688950     -2.280669  -1.253800     0.398249     -0.880376   \n",
       "3  -0.688950      0.049689   0.018699    -0.477181      0.192665   \n",
       "4  -0.116627     -0.416383  -0.829634     0.300598     -0.880376   \n",
       "\n",
       "   Urine.Ph_median  Urine.Ph_min  \n",
       "0         0.463054      1.868532  \n",
       "1        -1.137208     -0.419151  \n",
       "2        -1.137208     -0.419151  \n",
       "3         0.463054     -0.419151  \n",
       "4        -1.137208     -0.419151  \n",
       "\n",
       "[5 rows x 99 columns]"
      ]
     },
     "execution_count": 29,
     "metadata": {},
     "output_type": "execute_result"
    }
   ],
   "source": [
    "\n",
    "scaled_data.head()"
   ]
  },
  {
   "cell_type": "code",
   "execution_count": null,
   "id": "e0eaa364-ffa8-46a7-b07e-4355f5d14d7e",
   "metadata": {},
   "outputs": [],
   "source": []
  },
  {
   "cell_type": "code",
   "execution_count": 30,
   "id": "df4a4c7c-9abf-4be8-a4b2-6780badc9bba",
   "metadata": {},
   "outputs": [],
   "source": [
    "from sklearn.decomposition import PCA"
   ]
  },
  {
   "cell_type": "code",
   "execution_count": 31,
   "id": "d7ac11b3-ea2b-4da1-a676-e43f959af221",
   "metadata": {},
   "outputs": [],
   "source": [
    "#iniciate our pca with 2 componenets, fit/transform the scaled data we produced in the previous stps\n",
    "pca = PCA(n_components=2)\n",
    "df_pca = pca.fit_transform(scaled_data)"
   ]
  },
  {
   "cell_type": "code",
   "execution_count": null,
   "id": "aeba685a-d6b1-4f4b-9e5b-7e724d94f27b",
   "metadata": {},
   "outputs": [],
   "source": []
  },
  {
   "cell_type": "code",
   "execution_count": null,
   "id": "1a6c52dd-5ec3-42db-82c5-3f59255775e4",
   "metadata": {},
   "outputs": [],
   "source": []
  },
  {
   "cell_type": "code",
   "execution_count": 32,
   "id": "1e5a86d9-d8de-4ef2-a39f-be0006418bbb",
   "metadata": {},
   "outputs": [
    {
     "name": "stderr",
     "output_type": "stream",
     "text": [
      "C:\\Users\\kings\\anaconda3\\Lib\\site-packages\\sklearn\\cluster\\_kmeans.py:870: FutureWarning: The default value of `n_init` will change from 10 to 'auto' in 1.4. Set the value of `n_init` explicitly to suppress the warning\n",
      "  warnings.warn(\n",
      "C:\\Users\\kings\\anaconda3\\Lib\\site-packages\\sklearn\\cluster\\_kmeans.py:1382: UserWarning: KMeans is known to have a memory leak on Windows with MKL, when there are less chunks than available threads. You can avoid it by setting the environment variable OMP_NUM_THREADS=9.\n",
      "  warnings.warn(\n"
     ]
    },
    {
     "data": {
      "text/plain": [
       "array([[-1.42672274, -2.31776516],\n",
       "       [-1.44022628, -4.87120367],\n",
       "       [ 1.61786232, -0.42936821],\n",
       "       ...,\n",
       "       [-0.43293804,  4.24665287],\n",
       "       [-0.33079143,  3.31552052],\n",
       "       [ 1.46803314,  0.57897517]])"
      ]
     },
     "execution_count": 32,
     "metadata": {},
     "output_type": "execute_result"
    }
   ],
   "source": [
    "#fit out kmeans model to account for the reduced features\n",
    "kmeans6.fit(df_pca)\n",
    "df_pca"
   ]
  },
  {
   "cell_type": "code",
   "execution_count": 33,
   "id": "26f27bd8-a72b-420d-a936-1508ca471bf4",
   "metadata": {},
   "outputs": [
    {
     "data": {
      "text/plain": [
       "(6, 2)"
      ]
     },
     "execution_count": 33,
     "metadata": {},
     "output_type": "execute_result"
    }
   ],
   "source": [
    "#verify the cluster count and features appear to be correct\n",
    "kmeans6.cluster_centers_.shape\n",
    "\n"
   ]
  },
  {
   "cell_type": "code",
   "execution_count": null,
   "id": "d278afe1-cd18-45e4-a145-28d6e9ba4010",
   "metadata": {},
   "outputs": [],
   "source": []
  },
  {
   "cell_type": "markdown",
   "id": "879a7f4d-449b-40d8-bbc6-43e99bb1ba35",
   "metadata": {},
   "source": [
    "## 7. Make a scatterplot the PCA transformed data coloring each point by its cluster value."
   ]
  },
  {
   "cell_type": "code",
   "execution_count": 35,
   "id": "93931946-a14a-44b7-bfe3-bf16d7712de6",
   "metadata": {},
   "outputs": [],
   "source": [
    "#store the prediction in a label variable\n",
    "label = kmeans6.predict(df_pca)"
   ]
  },
  {
   "cell_type": "code",
   "execution_count": 36,
   "id": "7702b630-58fb-4125-a9bb-7c6151c2ecb4",
   "metadata": {},
   "outputs": [
    {
     "data": {
      "text/html": [
       "<div>\n",
       "<style scoped>\n",
       "    .dataframe tbody tr th:only-of-type {\n",
       "        vertical-align: middle;\n",
       "    }\n",
       "\n",
       "    .dataframe tbody tr th {\n",
       "        vertical-align: top;\n",
       "    }\n",
       "\n",
       "    .dataframe thead th {\n",
       "        text-align: right;\n",
       "    }\n",
       "</style>\n",
       "<table border=\"1\" class=\"dataframe\">\n",
       "  <thead>\n",
       "    <tr style=\"text-align: right;\">\n",
       "      <th></th>\n",
       "      <th>PC1</th>\n",
       "      <th>PC2</th>\n",
       "      <th>cluster</th>\n",
       "    </tr>\n",
       "  </thead>\n",
       "  <tbody>\n",
       "    <tr>\n",
       "      <th>0</th>\n",
       "      <td>-1.426723</td>\n",
       "      <td>-2.317765</td>\n",
       "      <td>3</td>\n",
       "    </tr>\n",
       "    <tr>\n",
       "      <th>1</th>\n",
       "      <td>-1.440226</td>\n",
       "      <td>-4.871204</td>\n",
       "      <td>3</td>\n",
       "    </tr>\n",
       "    <tr>\n",
       "      <th>2</th>\n",
       "      <td>1.617862</td>\n",
       "      <td>-0.429368</td>\n",
       "      <td>2</td>\n",
       "    </tr>\n",
       "    <tr>\n",
       "      <th>3</th>\n",
       "      <td>-1.919998</td>\n",
       "      <td>2.096873</td>\n",
       "      <td>5</td>\n",
       "    </tr>\n",
       "    <tr>\n",
       "      <th>4</th>\n",
       "      <td>0.297690</td>\n",
       "      <td>0.166131</td>\n",
       "      <td>2</td>\n",
       "    </tr>\n",
       "  </tbody>\n",
       "</table>\n",
       "</div>"
      ],
      "text/plain": [
       "        PC1       PC2  cluster\n",
       "0 -1.426723 -2.317765        3\n",
       "1 -1.440226 -4.871204        3\n",
       "2  1.617862 -0.429368        2\n",
       "3 -1.919998  2.096873        5\n",
       "4  0.297690  0.166131        2"
      ]
     },
     "execution_count": 36,
     "metadata": {},
     "output_type": "execute_result"
    }
   ],
   "source": [
    "# Convert to a data frame, create a simplified view that shows the cluster variable for each row\n",
    "reduceddf = pd.DataFrame(df_pca,  columns=['PC1','PC2'])\n",
    "reduceddf['cluster'] = label\n",
    "reduceddf.head()"
   ]
  },
  {
   "cell_type": "code",
   "execution_count": 37,
   "id": "9ccafad1-f731-43ca-a60c-dbf7d5abb94b",
   "metadata": {},
   "outputs": [],
   "source": [
    "\n",
    "\n",
    "\n",
    "centres_reduced = kmeans6.cluster_centers_"
   ]
  },
  {
   "cell_type": "code",
   "execution_count": 38,
   "id": "fb79fae5-76f8-40db-ba49-92df1f6cc07b",
   "metadata": {},
   "outputs": [
    {
     "data": {
      "text/plain": [
       "<matplotlib.legend.Legend at 0x24466c41150>"
      ]
     },
     "execution_count": 38,
     "metadata": {},
     "output_type": "execute_result"
    },
    {
     "data": {
      "image/png": "[encoded data removed]",
      "text/plain": [
       "<Figure size 640x480 with 1 Axes>"
      ]
     },
     "metadata": {},
     "output_type": "display_data"
    }
   ],
   "source": [
    "#create a scatter plot for each of the clusters\n",
    "\n",
    "\n",
    "plt.scatter(df_pca[label == 0, 0], df_pca[label == 0, 1], s=100, c='red', label='Cluster 1')\n",
    "plt.scatter(df_pca[label == 1, 0], df_pca[label == 1, 1], s=100, c='blue', label='Cluster 2')\n",
    "plt.scatter(df_pca[label == 2, 0], df_pca[label == 2, 1], s=100, c='green', label='Cluster 3')\n",
    "plt.scatter(df_pca[label == 3, 0], df_pca[label == 3, 1], s=100, c='cyan', label='Cluster 4')\n",
    "plt.scatter(df_pca[label == 4, 0], df_pca[label == 4, 1], s=100, c='yellow', label='Cluster 5')\n",
    "plt.scatter(df_pca[label == 5, 0], df_pca[label == 5, 1], s=100, c='orange', label='Cluster 6')\n",
    "plt.scatter(centres_reduced[:,0], centres_reduced[:,1] , c='black')\n",
    "plt.xlabel('PC1')\n",
    "plt.ylabel('PC2')\n",
    "plt.title('PC1 vs PC2 projections')\n",
    "plt.legend()\n"
   ]
  },
  {
   "cell_type": "code",
   "execution_count": null,
   "id": "57c4cb6b-8d73-4615-9a86-23a7e62bf23d",
   "metadata": {},
   "outputs": [],
   "source": []
  },
  {
   "cell_type": "code",
   "execution_count": null,
   "id": "f5fa49be-9507-42f3-9468-487421c47c7a",
   "metadata": {},
   "outputs": [],
   "source": []
  },
  {
   "cell_type": "markdown",
   "id": "858a261c-1026-4a6c-9605-eba898be139c",
   "metadata": {},
   "source": [
    "## 8. Summarize your results and make a conclusion."
   ]
  },
  {
   "cell_type": "code",
   "execution_count": 40,
   "id": "e177f42e-f2e8-4276-8138-9c0a59cf30b6",
   "metadata": {},
   "outputs": [],
   "source": [
    "#we see some outlier values that fall outside the ovverall cluster of points.  Most of these appear to fall in cluster 1 but cluster 6,4 and 5 have some as well. With this data all appreaing in one large cluster it shows that this analysis does not display any clear grouping.  I would venture to say this may be why our elbow chart was relativly straignt\n"
   ]
  },
  {
   "cell_type": "code",
   "execution_count": null,
   "id": "3c94415f-149b-4ae9-82c7-e939179ccb98",
   "metadata": {},
   "outputs": [],
   "source": []
  },
  {
   "cell_type": "code",
   "execution_count": null,
   "id": "97d6f7ff-0391-4712-9a46-f9127a03d8b3",
   "metadata": {},
   "outputs": [],
   "source": []
  },
  {
   "cell_type": "code",
   "execution_count": null,
   "id": "ddeecbfb-8b26-4431-b1e0-f80a17040f38",
   "metadata": {},
   "outputs": [],
   "source": []
  },
  {
   "cell_type": "code",
   "execution_count": null,
   "id": "a7b4542d-eb64-4593-8ec9-ced4aa2e5c9f",
   "metadata": {},
   "outputs": [],
   "source": []
  },
  {
   "cell_type": "code",
   "execution_count": null,
   "id": "82d24eb6-4138-4799-813f-dd227f200ac4",
   "metadata": {},
   "outputs": [],
   "source": []
  },
  {
   "cell_type": "code",
   "execution_count": null,
   "id": "acf2686e-ee7d-4477-a7cc-5aaae9cad8e4",
   "metadata": {},
   "outputs": [],
   "source": []
  },
  {
   "cell_type": "code",
   "execution_count": null,
   "id": "d55ab9ea-da74-4ef0-8a0b-e722b36a73c7",
   "metadata": {},
   "outputs": [],
   "source": []
  },
  {
   "cell_type": "code",
   "execution_count": null,
   "id": "fd31333b-87ac-448f-90d9-2f467d9b1b5e",
   "metadata": {},
   "outputs": [],
   "source": []
  }
 ],
 "metadata": {
  "kernelspec": {
   "display_name": "Python 3 (ipykernel)",
   "language": "python",
   "name": "python3"
  },
  "language_info": {
   "codemirror_mode": {
    "name": "ipython",
    "version": 3
   },
   "file_extension": ".py",
   "mimetype": "text/x-python",
   "name": "python",
   "nbconvert_exporter": "python",
   "pygments_lexer": "ipython3",
   "version": "3.11.7"
  }
 },
 "nbformat": 4,
 "nbformat_minor": 5
}
